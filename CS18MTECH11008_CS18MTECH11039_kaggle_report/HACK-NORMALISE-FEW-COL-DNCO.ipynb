{
 "cells": [
  {
   "cell_type": "code",
   "execution_count": 43,
   "metadata": {},
   "outputs": [],
   "source": [
    "import pandas as pd\n",
    "import numpy as np"
   ]
  },
  {
   "cell_type": "code",
   "execution_count": 44,
   "metadata": {},
   "outputs": [],
   "source": [
    "data=pd.read_csv('train.csv')"
   ]
  },
  {
   "cell_type": "code",
   "execution_count": 45,
   "metadata": {
    "scrolled": true
   },
   "outputs": [
    {
     "data": {
      "text/html": [
       "<div>\n",
       "<style scoped>\n",
       "    .dataframe tbody tr th:only-of-type {\n",
       "        vertical-align: middle;\n",
       "    }\n",
       "\n",
       "    .dataframe tbody tr th {\n",
       "        vertical-align: top;\n",
       "    }\n",
       "\n",
       "    .dataframe thead th {\n",
       "        text-align: right;\n",
       "    }\n",
       "</style>\n",
       "<table border=\"1\" class=\"dataframe\">\n",
       "  <thead>\n",
       "    <tr style=\"text-align: right;\">\n",
       "      <th></th>\n",
       "      <th>id</th>\n",
       "      <th>distance</th>\n",
       "      <th>taxi_type</th>\n",
       "      <th>months_of_activity</th>\n",
       "      <th>customer_score</th>\n",
       "      <th>customer_score_confidence</th>\n",
       "      <th>drop_location_type</th>\n",
       "      <th>ratings_given_by_cust</th>\n",
       "      <th>num_of_cancelled_trips</th>\n",
       "      <th>anon_var_1</th>\n",
       "      <th>anon_var_2</th>\n",
       "      <th>anon_var_3</th>\n",
       "      <th>sex</th>\n",
       "      <th>pricing_category</th>\n",
       "    </tr>\n",
       "  </thead>\n",
       "  <tbody>\n",
       "    <tr>\n",
       "      <th>0</th>\n",
       "      <td>T0005891966</td>\n",
       "      <td>59.30</td>\n",
       "      <td>C</td>\n",
       "      <td>1.0</td>\n",
       "      <td>NaN</td>\n",
       "      <td>NaN</td>\n",
       "      <td>B</td>\n",
       "      <td>1.18625</td>\n",
       "      <td>0</td>\n",
       "      <td>NaN</td>\n",
       "      <td>50</td>\n",
       "      <td>71</td>\n",
       "      <td>Male</td>\n",
       "      <td>2</td>\n",
       "    </tr>\n",
       "    <tr>\n",
       "      <th>1</th>\n",
       "      <td>T0005902453</td>\n",
       "      <td>20.68</td>\n",
       "      <td>B</td>\n",
       "      <td>0.0</td>\n",
       "      <td>2.79222</td>\n",
       "      <td>C</td>\n",
       "      <td>B</td>\n",
       "      <td>1.91750</td>\n",
       "      <td>1</td>\n",
       "      <td>31.0</td>\n",
       "      <td>50</td>\n",
       "      <td>65</td>\n",
       "      <td>Male</td>\n",
       "      <td>2</td>\n",
       "    </tr>\n",
       "    <tr>\n",
       "      <th>2</th>\n",
       "      <td>T0005847289</td>\n",
       "      <td>64.83</td>\n",
       "      <td>B</td>\n",
       "      <td>1.0</td>\n",
       "      <td>2.97482</td>\n",
       "      <td>C</td>\n",
       "      <td>A</td>\n",
       "      <td>3.62125</td>\n",
       "      <td>0</td>\n",
       "      <td>65.0</td>\n",
       "      <td>49</td>\n",
       "      <td>84</td>\n",
       "      <td>Male</td>\n",
       "      <td>2</td>\n",
       "    </tr>\n",
       "    <tr>\n",
       "      <th>3</th>\n",
       "      <td>T0005741279</td>\n",
       "      <td>25.51</td>\n",
       "      <td>C</td>\n",
       "      <td>0.0</td>\n",
       "      <td>2.90334</td>\n",
       "      <td>A</td>\n",
       "      <td>B</td>\n",
       "      <td>4.76750</td>\n",
       "      <td>2</td>\n",
       "      <td>46.0</td>\n",
       "      <td>43</td>\n",
       "      <td>60</td>\n",
       "      <td>Female</td>\n",
       "      <td>3</td>\n",
       "    </tr>\n",
       "    <tr>\n",
       "      <th>4</th>\n",
       "      <td>T0005711058</td>\n",
       "      <td>20.16</td>\n",
       "      <td>D</td>\n",
       "      <td>6.0</td>\n",
       "      <td>2.62301</td>\n",
       "      <td>B</td>\n",
       "      <td>D</td>\n",
       "      <td>2.03875</td>\n",
       "      <td>0</td>\n",
       "      <td>NaN</td>\n",
       "      <td>52</td>\n",
       "      <td>71</td>\n",
       "      <td>Female</td>\n",
       "      <td>3</td>\n",
       "    </tr>\n",
       "  </tbody>\n",
       "</table>\n",
       "</div>"
      ],
      "text/plain": [
       "            id  distance taxi_type  months_of_activity  customer_score  \\\n",
       "0  T0005891966     59.30         C                 1.0             NaN   \n",
       "1  T0005902453     20.68         B                 0.0         2.79222   \n",
       "2  T0005847289     64.83         B                 1.0         2.97482   \n",
       "3  T0005741279     25.51         C                 0.0         2.90334   \n",
       "4  T0005711058     20.16         D                 6.0         2.62301   \n",
       "\n",
       "  customer_score_confidence drop_location_type  ratings_given_by_cust  \\\n",
       "0                       NaN                  B                1.18625   \n",
       "1                         C                  B                1.91750   \n",
       "2                         C                  A                3.62125   \n",
       "3                         A                  B                4.76750   \n",
       "4                         B                  D                2.03875   \n",
       "\n",
       "   num_of_cancelled_trips  anon_var_1  anon_var_2  anon_var_3     sex  \\\n",
       "0                       0         NaN          50          71    Male   \n",
       "1                       1        31.0          50          65    Male   \n",
       "2                       0        65.0          49          84    Male   \n",
       "3                       2        46.0          43          60  Female   \n",
       "4                       0         NaN          52          71  Female   \n",
       "\n",
       "   pricing_category  \n",
       "0                 2  \n",
       "1                 2  \n",
       "2                 2  \n",
       "3                 3  \n",
       "4                 3  "
      ]
     },
     "execution_count": 45,
     "metadata": {},
     "output_type": "execute_result"
    }
   ],
   "source": [
    "data.head()"
   ]
  },
  {
   "cell_type": "code",
   "execution_count": 46,
   "metadata": {
    "scrolled": false
   },
   "outputs": [
    {
     "name": "stdout",
     "output_type": "stream",
     "text": [
      "id                               0\n",
      "distance                         0\n",
      "taxi_type                    12152\n",
      "months_of_activity            3533\n",
      "customer_score               12041\n",
      "customer_score_confidence    12041\n",
      "drop_location_type               0\n",
      "ratings_given_by_cust            0\n",
      "num_of_cancelled_trips           0\n",
      "anon_var_1                   42419\n",
      "anon_var_2                       0\n",
      "anon_var_3                       0\n",
      "sex                              0\n",
      "pricing_category                 0\n",
      "dtype: int64\n"
     ]
    }
   ],
   "source": [
    "#Identify null values\n",
    "print(data.isnull().sum())"
   ]
  },
  {
   "cell_type": "code",
   "execution_count": 47,
   "metadata": {},
   "outputs": [
    {
     "data": {
      "text/plain": [
       "B    18644\n",
       "C    16827\n",
       "A    13011\n",
       "D    11348\n",
       "E     7015\n",
       "Name: taxi_type, dtype: int64"
      ]
     },
     "execution_count": 47,
     "metadata": {},
     "output_type": "execute_result"
    }
   ],
   "source": [
    "data['taxi_type'].value_counts() # go with max or mean"
   ]
  },
  {
   "cell_type": "code",
   "execution_count": 48,
   "metadata": {},
   "outputs": [
    {
     "data": {
      "text/plain": [
       "10.0    25608\n",
       "2.0      7012\n",
       "3.0      6221\n",
       "0.0      6152\n",
       "5.0      5203\n",
       "1.0      4932\n",
       "4.0      4604\n",
       "7.0      4432\n",
       "6.0      4405\n",
       "8.0      3785\n",
       "9.0      3110\n",
       "Name: months_of_activity, dtype: int64"
      ]
     },
     "execution_count": 48,
     "metadata": {},
     "output_type": "execute_result"
    }
   ],
   "source": [
    "data['months_of_activity'].value_counts() #go with mean"
   ]
  },
  {
   "cell_type": "code",
   "execution_count": 49,
   "metadata": {},
   "outputs": [
    {
     "data": {
      "text/plain": [
       "2.78450    9\n",
       "2.77447    9\n",
       "2.69907    9\n",
       "2.70697    9\n",
       "2.70093    9\n",
       "2.70370    9\n",
       "2.87170    9\n",
       "2.78285    9\n",
       "2.78465    9\n",
       "2.77256    9\n",
       "2.81590    8\n",
       "2.80728    8\n",
       "2.60123    8\n",
       "2.77371    8\n",
       "3.08081    8\n",
       "2.81827    8\n",
       "2.71425    8\n",
       "2.78127    8\n",
       "2.77198    8\n",
       "2.77664    8\n",
       "2.77746    8\n",
       "2.77651    8\n",
       "2.77608    8\n",
       "2.77869    8\n",
       "2.81921    8\n",
       "2.77571    8\n",
       "2.81916    7\n",
       "2.86221    7\n",
       "2.74162    7\n",
       "2.70731    7\n",
       "          ..\n",
       "2.54432    1\n",
       "2.84545    1\n",
       "3.00144    1\n",
       "2.51220    1\n",
       "2.21665    1\n",
       "2.76896    1\n",
       "2.95610    1\n",
       "2.76010    1\n",
       "3.01131    1\n",
       "2.57420    1\n",
       "3.15128    1\n",
       "3.17243    1\n",
       "2.63734    1\n",
       "3.17516    1\n",
       "2.42990    1\n",
       "2.95223    1\n",
       "2.09799    1\n",
       "2.62206    1\n",
       "3.20320    1\n",
       "2.23802    1\n",
       "2.87407    1\n",
       "2.52021    1\n",
       "2.88669    1\n",
       "3.16177    1\n",
       "2.70131    1\n",
       "2.78730    1\n",
       "3.01728    1\n",
       "3.04421    1\n",
       "2.66349    1\n",
       "2.90963    1\n",
       "Name: customer_score, Length: 42214, dtype: int64"
      ]
     },
     "execution_count": 49,
     "metadata": {},
     "output_type": "execute_result"
    }
   ],
   "source": [
    "data['customer_score'].value_counts() # go with average "
   ]
  },
  {
   "cell_type": "code",
   "execution_count": 50,
   "metadata": {},
   "outputs": [
    {
     "data": {
      "text/plain": [
       "B    24148\n",
       "C    21639\n",
       "A    21169\n",
       "Name: customer_score_confidence, dtype: int64"
      ]
     },
     "execution_count": 50,
     "metadata": {},
     "output_type": "execute_result"
    }
   ],
   "source": [
    " data['customer_score_confidence'].value_counts() # go with B"
   ]
  },
  {
   "cell_type": "code",
   "execution_count": 51,
   "metadata": {},
   "outputs": [],
   "source": [
    "data.drop(columns=['anon_var_1','id'],inplace=True)"
   ]
  },
  {
   "cell_type": "code",
   "execution_count": 52,
   "metadata": {},
   "outputs": [
    {
     "data": {
      "text/html": [
       "<div>\n",
       "<style scoped>\n",
       "    .dataframe tbody tr th:only-of-type {\n",
       "        vertical-align: middle;\n",
       "    }\n",
       "\n",
       "    .dataframe tbody tr th {\n",
       "        vertical-align: top;\n",
       "    }\n",
       "\n",
       "    .dataframe thead th {\n",
       "        text-align: right;\n",
       "    }\n",
       "</style>\n",
       "<table border=\"1\" class=\"dataframe\">\n",
       "  <thead>\n",
       "    <tr style=\"text-align: right;\">\n",
       "      <th></th>\n",
       "      <th>distance</th>\n",
       "      <th>taxi_type</th>\n",
       "      <th>months_of_activity</th>\n",
       "      <th>customer_score</th>\n",
       "      <th>customer_score_confidence</th>\n",
       "      <th>drop_location_type</th>\n",
       "      <th>ratings_given_by_cust</th>\n",
       "      <th>num_of_cancelled_trips</th>\n",
       "      <th>anon_var_2</th>\n",
       "      <th>anon_var_3</th>\n",
       "      <th>sex</th>\n",
       "      <th>pricing_category</th>\n",
       "    </tr>\n",
       "  </thead>\n",
       "  <tbody>\n",
       "    <tr>\n",
       "      <th>0</th>\n",
       "      <td>59.30</td>\n",
       "      <td>C</td>\n",
       "      <td>1.0</td>\n",
       "      <td>NaN</td>\n",
       "      <td>NaN</td>\n",
       "      <td>B</td>\n",
       "      <td>1.18625</td>\n",
       "      <td>0</td>\n",
       "      <td>50</td>\n",
       "      <td>71</td>\n",
       "      <td>Male</td>\n",
       "      <td>2</td>\n",
       "    </tr>\n",
       "    <tr>\n",
       "      <th>1</th>\n",
       "      <td>20.68</td>\n",
       "      <td>B</td>\n",
       "      <td>0.0</td>\n",
       "      <td>2.79222</td>\n",
       "      <td>C</td>\n",
       "      <td>B</td>\n",
       "      <td>1.91750</td>\n",
       "      <td>1</td>\n",
       "      <td>50</td>\n",
       "      <td>65</td>\n",
       "      <td>Male</td>\n",
       "      <td>2</td>\n",
       "    </tr>\n",
       "    <tr>\n",
       "      <th>2</th>\n",
       "      <td>64.83</td>\n",
       "      <td>B</td>\n",
       "      <td>1.0</td>\n",
       "      <td>2.97482</td>\n",
       "      <td>C</td>\n",
       "      <td>A</td>\n",
       "      <td>3.62125</td>\n",
       "      <td>0</td>\n",
       "      <td>49</td>\n",
       "      <td>84</td>\n",
       "      <td>Male</td>\n",
       "      <td>2</td>\n",
       "    </tr>\n",
       "    <tr>\n",
       "      <th>3</th>\n",
       "      <td>25.51</td>\n",
       "      <td>C</td>\n",
       "      <td>0.0</td>\n",
       "      <td>2.90334</td>\n",
       "      <td>A</td>\n",
       "      <td>B</td>\n",
       "      <td>4.76750</td>\n",
       "      <td>2</td>\n",
       "      <td>43</td>\n",
       "      <td>60</td>\n",
       "      <td>Female</td>\n",
       "      <td>3</td>\n",
       "    </tr>\n",
       "    <tr>\n",
       "      <th>4</th>\n",
       "      <td>20.16</td>\n",
       "      <td>D</td>\n",
       "      <td>6.0</td>\n",
       "      <td>2.62301</td>\n",
       "      <td>B</td>\n",
       "      <td>D</td>\n",
       "      <td>2.03875</td>\n",
       "      <td>0</td>\n",
       "      <td>52</td>\n",
       "      <td>71</td>\n",
       "      <td>Female</td>\n",
       "      <td>3</td>\n",
       "    </tr>\n",
       "  </tbody>\n",
       "</table>\n",
       "</div>"
      ],
      "text/plain": [
       "   distance taxi_type  months_of_activity  customer_score  \\\n",
       "0     59.30         C                 1.0             NaN   \n",
       "1     20.68         B                 0.0         2.79222   \n",
       "2     64.83         B                 1.0         2.97482   \n",
       "3     25.51         C                 0.0         2.90334   \n",
       "4     20.16         D                 6.0         2.62301   \n",
       "\n",
       "  customer_score_confidence drop_location_type  ratings_given_by_cust  \\\n",
       "0                       NaN                  B                1.18625   \n",
       "1                         C                  B                1.91750   \n",
       "2                         C                  A                3.62125   \n",
       "3                         A                  B                4.76750   \n",
       "4                         B                  D                2.03875   \n",
       "\n",
       "   num_of_cancelled_trips  anon_var_2  anon_var_3     sex  pricing_category  \n",
       "0                       0          50          71    Male                 2  \n",
       "1                       1          50          65    Male                 2  \n",
       "2                       0          49          84    Male                 2  \n",
       "3                       2          43          60  Female                 3  \n",
       "4                       0          52          71  Female                 3  "
      ]
     },
     "execution_count": 52,
     "metadata": {},
     "output_type": "execute_result"
    }
   ],
   "source": [
    "data.head()"
   ]
  },
  {
   "cell_type": "code",
   "execution_count": 53,
   "metadata": {},
   "outputs": [],
   "source": [
    "values = {'taxi_type': 'B', 'customer_score_confidence': 'B'}\n",
    "data.fillna(value=values,inplace=True)"
   ]
  },
  {
   "cell_type": "code",
   "execution_count": 54,
   "metadata": {},
   "outputs": [
    {
     "name": "stdout",
     "output_type": "stream",
     "text": [
      "distance                         0\n",
      "taxi_type                        0\n",
      "months_of_activity            3533\n",
      "customer_score               12041\n",
      "customer_score_confidence        0\n",
      "drop_location_type               0\n",
      "ratings_given_by_cust            0\n",
      "num_of_cancelled_trips           0\n",
      "anon_var_2                       0\n",
      "anon_var_3                       0\n",
      "sex                              0\n",
      "pricing_category                 0\n",
      "dtype: int64\n"
     ]
    }
   ],
   "source": [
    "#Identify null values\n",
    "print(data.isnull().sum())"
   ]
  },
  {
   "cell_type": "code",
   "execution_count": 55,
   "metadata": {},
   "outputs": [],
   "source": [
    "data['months_of_activity'] = data['months_of_activity'].fillna((data['months_of_activity'].median()))"
   ]
  },
  {
   "cell_type": "code",
   "execution_count": 56,
   "metadata": {},
   "outputs": [],
   "source": [
    "data['customer_score'] = data['customer_score'].fillna((data['customer_score'].median()))"
   ]
  },
  {
   "cell_type": "code",
   "execution_count": 57,
   "metadata": {},
   "outputs": [
    {
     "name": "stdout",
     "output_type": "stream",
     "text": [
      "distance                     0\n",
      "taxi_type                    0\n",
      "months_of_activity           0\n",
      "customer_score               0\n",
      "customer_score_confidence    0\n",
      "drop_location_type           0\n",
      "ratings_given_by_cust        0\n",
      "num_of_cancelled_trips       0\n",
      "anon_var_2                   0\n",
      "anon_var_3                   0\n",
      "sex                          0\n",
      "pricing_category             0\n",
      "dtype: int64\n"
     ]
    }
   ],
   "source": [
    "#Identify null values\n",
    "print(data.isnull().sum())"
   ]
  },
  {
   "cell_type": "code",
   "execution_count": 58,
   "metadata": {},
   "outputs": [
    {
     "data": {
      "text/plain": [
       "2    34028\n",
       "3    28586\n",
       "1    16383\n",
       "Name: pricing_category, dtype: int64"
      ]
     },
     "execution_count": 58,
     "metadata": {},
     "output_type": "execute_result"
    }
   ],
   "source": [
    "data['pricing_category'].value_counts()"
   ]
  },
  {
   "cell_type": "code",
   "execution_count": 59,
   "metadata": {},
   "outputs": [
    {
     "data": {
      "text/html": [
       "<div>\n",
       "<style scoped>\n",
       "    .dataframe tbody tr th:only-of-type {\n",
       "        vertical-align: middle;\n",
       "    }\n",
       "\n",
       "    .dataframe tbody tr th {\n",
       "        vertical-align: top;\n",
       "    }\n",
       "\n",
       "    .dataframe thead th {\n",
       "        text-align: right;\n",
       "    }\n",
       "</style>\n",
       "<table border=\"1\" class=\"dataframe\">\n",
       "  <thead>\n",
       "    <tr style=\"text-align: right;\">\n",
       "      <th></th>\n",
       "      <th>distance</th>\n",
       "      <th>taxi_type</th>\n",
       "      <th>months_of_activity</th>\n",
       "      <th>customer_score</th>\n",
       "      <th>customer_score_confidence</th>\n",
       "      <th>drop_location_type</th>\n",
       "      <th>ratings_given_by_cust</th>\n",
       "      <th>num_of_cancelled_trips</th>\n",
       "      <th>anon_var_2</th>\n",
       "      <th>anon_var_3</th>\n",
       "      <th>sex</th>\n",
       "      <th>pricing_category</th>\n",
       "    </tr>\n",
       "  </thead>\n",
       "  <tbody>\n",
       "    <tr>\n",
       "      <th>0</th>\n",
       "      <td>59.30</td>\n",
       "      <td>C</td>\n",
       "      <td>1.0</td>\n",
       "      <td>2.796885</td>\n",
       "      <td>B</td>\n",
       "      <td>B</td>\n",
       "      <td>1.18625</td>\n",
       "      <td>0</td>\n",
       "      <td>50</td>\n",
       "      <td>71</td>\n",
       "      <td>Male</td>\n",
       "      <td>2</td>\n",
       "    </tr>\n",
       "    <tr>\n",
       "      <th>1</th>\n",
       "      <td>20.68</td>\n",
       "      <td>B</td>\n",
       "      <td>0.0</td>\n",
       "      <td>2.792220</td>\n",
       "      <td>C</td>\n",
       "      <td>B</td>\n",
       "      <td>1.91750</td>\n",
       "      <td>1</td>\n",
       "      <td>50</td>\n",
       "      <td>65</td>\n",
       "      <td>Male</td>\n",
       "      <td>2</td>\n",
       "    </tr>\n",
       "    <tr>\n",
       "      <th>2</th>\n",
       "      <td>64.83</td>\n",
       "      <td>B</td>\n",
       "      <td>1.0</td>\n",
       "      <td>2.974820</td>\n",
       "      <td>C</td>\n",
       "      <td>A</td>\n",
       "      <td>3.62125</td>\n",
       "      <td>0</td>\n",
       "      <td>49</td>\n",
       "      <td>84</td>\n",
       "      <td>Male</td>\n",
       "      <td>2</td>\n",
       "    </tr>\n",
       "    <tr>\n",
       "      <th>3</th>\n",
       "      <td>25.51</td>\n",
       "      <td>C</td>\n",
       "      <td>0.0</td>\n",
       "      <td>2.903340</td>\n",
       "      <td>A</td>\n",
       "      <td>B</td>\n",
       "      <td>4.76750</td>\n",
       "      <td>2</td>\n",
       "      <td>43</td>\n",
       "      <td>60</td>\n",
       "      <td>Female</td>\n",
       "      <td>3</td>\n",
       "    </tr>\n",
       "    <tr>\n",
       "      <th>4</th>\n",
       "      <td>20.16</td>\n",
       "      <td>D</td>\n",
       "      <td>6.0</td>\n",
       "      <td>2.623010</td>\n",
       "      <td>B</td>\n",
       "      <td>D</td>\n",
       "      <td>2.03875</td>\n",
       "      <td>0</td>\n",
       "      <td>52</td>\n",
       "      <td>71</td>\n",
       "      <td>Female</td>\n",
       "      <td>3</td>\n",
       "    </tr>\n",
       "  </tbody>\n",
       "</table>\n",
       "</div>"
      ],
      "text/plain": [
       "   distance taxi_type  months_of_activity  customer_score  \\\n",
       "0     59.30         C                 1.0        2.796885   \n",
       "1     20.68         B                 0.0        2.792220   \n",
       "2     64.83         B                 1.0        2.974820   \n",
       "3     25.51         C                 0.0        2.903340   \n",
       "4     20.16         D                 6.0        2.623010   \n",
       "\n",
       "  customer_score_confidence drop_location_type  ratings_given_by_cust  \\\n",
       "0                         B                  B                1.18625   \n",
       "1                         C                  B                1.91750   \n",
       "2                         C                  A                3.62125   \n",
       "3                         A                  B                4.76750   \n",
       "4                         B                  D                2.03875   \n",
       "\n",
       "   num_of_cancelled_trips  anon_var_2  anon_var_3     sex  pricing_category  \n",
       "0                       0          50          71    Male                 2  \n",
       "1                       1          50          65    Male                 2  \n",
       "2                       0          49          84    Male                 2  \n",
       "3                       2          43          60  Female                 3  \n",
       "4                       0          52          71  Female                 3  "
      ]
     },
     "execution_count": 59,
     "metadata": {},
     "output_type": "execute_result"
    }
   ],
   "source": [
    "data.head()"
   ]
  },
  {
   "cell_type": "code",
   "execution_count": 60,
   "metadata": {},
   "outputs": [],
   "source": [
    "data.drop(columns='sex',inplace=True)"
   ]
  },
  {
   "cell_type": "code",
   "execution_count": 61,
   "metadata": {},
   "outputs": [],
   "source": [
    "newDataFrame=data[['taxi_type','customer_score_confidence','drop_location_type']]"
   ]
  },
  {
   "cell_type": "code",
   "execution_count": 62,
   "metadata": {},
   "outputs": [
    {
     "data": {
      "text/html": [
       "<div>\n",
       "<style scoped>\n",
       "    .dataframe tbody tr th:only-of-type {\n",
       "        vertical-align: middle;\n",
       "    }\n",
       "\n",
       "    .dataframe tbody tr th {\n",
       "        vertical-align: top;\n",
       "    }\n",
       "\n",
       "    .dataframe thead th {\n",
       "        text-align: right;\n",
       "    }\n",
       "</style>\n",
       "<table border=\"1\" class=\"dataframe\">\n",
       "  <thead>\n",
       "    <tr style=\"text-align: right;\">\n",
       "      <th></th>\n",
       "      <th>taxi_type</th>\n",
       "      <th>customer_score_confidence</th>\n",
       "      <th>drop_location_type</th>\n",
       "    </tr>\n",
       "  </thead>\n",
       "  <tbody>\n",
       "    <tr>\n",
       "      <th>0</th>\n",
       "      <td>C</td>\n",
       "      <td>B</td>\n",
       "      <td>B</td>\n",
       "    </tr>\n",
       "    <tr>\n",
       "      <th>1</th>\n",
       "      <td>B</td>\n",
       "      <td>C</td>\n",
       "      <td>B</td>\n",
       "    </tr>\n",
       "    <tr>\n",
       "      <th>2</th>\n",
       "      <td>B</td>\n",
       "      <td>C</td>\n",
       "      <td>A</td>\n",
       "    </tr>\n",
       "    <tr>\n",
       "      <th>3</th>\n",
       "      <td>C</td>\n",
       "      <td>A</td>\n",
       "      <td>B</td>\n",
       "    </tr>\n",
       "    <tr>\n",
       "      <th>4</th>\n",
       "      <td>D</td>\n",
       "      <td>B</td>\n",
       "      <td>D</td>\n",
       "    </tr>\n",
       "  </tbody>\n",
       "</table>\n",
       "</div>"
      ],
      "text/plain": [
       "  taxi_type customer_score_confidence drop_location_type\n",
       "0         C                         B                  B\n",
       "1         B                         C                  B\n",
       "2         B                         C                  A\n",
       "3         C                         A                  B\n",
       "4         D                         B                  D"
      ]
     },
     "execution_count": 62,
     "metadata": {},
     "output_type": "execute_result"
    }
   ],
   "source": [
    "newDataFrame.head()"
   ]
  },
  {
   "cell_type": "code",
   "execution_count": 63,
   "metadata": {},
   "outputs": [],
   "source": [
    "data.drop(columns=['taxi_type','customer_score_confidence','drop_location_type'],inplace=True)"
   ]
  },
  {
   "cell_type": "code",
   "execution_count": 64,
   "metadata": {},
   "outputs": [
    {
     "data": {
      "text/html": [
       "<div>\n",
       "<style scoped>\n",
       "    .dataframe tbody tr th:only-of-type {\n",
       "        vertical-align: middle;\n",
       "    }\n",
       "\n",
       "    .dataframe tbody tr th {\n",
       "        vertical-align: top;\n",
       "    }\n",
       "\n",
       "    .dataframe thead th {\n",
       "        text-align: right;\n",
       "    }\n",
       "</style>\n",
       "<table border=\"1\" class=\"dataframe\">\n",
       "  <thead>\n",
       "    <tr style=\"text-align: right;\">\n",
       "      <th></th>\n",
       "      <th>distance</th>\n",
       "      <th>months_of_activity</th>\n",
       "      <th>customer_score</th>\n",
       "      <th>ratings_given_by_cust</th>\n",
       "      <th>num_of_cancelled_trips</th>\n",
       "      <th>anon_var_2</th>\n",
       "      <th>anon_var_3</th>\n",
       "      <th>pricing_category</th>\n",
       "    </tr>\n",
       "  </thead>\n",
       "  <tbody>\n",
       "    <tr>\n",
       "      <th>0</th>\n",
       "      <td>59.30</td>\n",
       "      <td>1.0</td>\n",
       "      <td>2.796885</td>\n",
       "      <td>1.18625</td>\n",
       "      <td>0</td>\n",
       "      <td>50</td>\n",
       "      <td>71</td>\n",
       "      <td>2</td>\n",
       "    </tr>\n",
       "    <tr>\n",
       "      <th>1</th>\n",
       "      <td>20.68</td>\n",
       "      <td>0.0</td>\n",
       "      <td>2.792220</td>\n",
       "      <td>1.91750</td>\n",
       "      <td>1</td>\n",
       "      <td>50</td>\n",
       "      <td>65</td>\n",
       "      <td>2</td>\n",
       "    </tr>\n",
       "    <tr>\n",
       "      <th>2</th>\n",
       "      <td>64.83</td>\n",
       "      <td>1.0</td>\n",
       "      <td>2.974820</td>\n",
       "      <td>3.62125</td>\n",
       "      <td>0</td>\n",
       "      <td>49</td>\n",
       "      <td>84</td>\n",
       "      <td>2</td>\n",
       "    </tr>\n",
       "    <tr>\n",
       "      <th>3</th>\n",
       "      <td>25.51</td>\n",
       "      <td>0.0</td>\n",
       "      <td>2.903340</td>\n",
       "      <td>4.76750</td>\n",
       "      <td>2</td>\n",
       "      <td>43</td>\n",
       "      <td>60</td>\n",
       "      <td>3</td>\n",
       "    </tr>\n",
       "    <tr>\n",
       "      <th>4</th>\n",
       "      <td>20.16</td>\n",
       "      <td>6.0</td>\n",
       "      <td>2.623010</td>\n",
       "      <td>2.03875</td>\n",
       "      <td>0</td>\n",
       "      <td>52</td>\n",
       "      <td>71</td>\n",
       "      <td>3</td>\n",
       "    </tr>\n",
       "  </tbody>\n",
       "</table>\n",
       "</div>"
      ],
      "text/plain": [
       "   distance  months_of_activity  customer_score  ratings_given_by_cust  \\\n",
       "0     59.30                 1.0        2.796885                1.18625   \n",
       "1     20.68                 0.0        2.792220                1.91750   \n",
       "2     64.83                 1.0        2.974820                3.62125   \n",
       "3     25.51                 0.0        2.903340                4.76750   \n",
       "4     20.16                 6.0        2.623010                2.03875   \n",
       "\n",
       "   num_of_cancelled_trips  anon_var_2  anon_var_3  pricing_category  \n",
       "0                       0          50          71                 2  \n",
       "1                       1          50          65                 2  \n",
       "2                       0          49          84                 2  \n",
       "3                       2          43          60                 3  \n",
       "4                       0          52          71                 3  "
      ]
     },
     "execution_count": 64,
     "metadata": {},
     "output_type": "execute_result"
    }
   ],
   "source": [
    "data.head()"
   ]
  },
  {
   "cell_type": "code",
   "execution_count": 68,
   "metadata": {},
   "outputs": [],
   "source": [
    "final_arr=data.values"
   ]
  },
  {
   "cell_type": "code",
   "execution_count": 69,
   "metadata": {},
   "outputs": [],
   "source": [
    "for i in range(len(final_arr[0])-1):\n",
    "    \n",
    "    mean = np.mean(final_arr[:,i])\n",
    "    std = np.std(final_arr[:,i])\n",
    "    final_arr[:, i] = abs((mean - final_arr[:,i]) / std)"
   ]
  },
  {
   "cell_type": "code",
   "execution_count": 70,
   "metadata": {},
   "outputs": [
    {
     "data": {
      "text/plain": [
       "array([[0.59107875, 1.41348214, 0.01858215, ..., 0.24080277, 0.35381468,\n",
       "        2.        ],\n",
       "       [0.92080859, 1.69541482, 0.04098689, ..., 0.24080277, 0.87126906,\n",
       "        2.        ],\n",
       "       [0.80756599, 1.41348214, 0.83599176, ..., 0.44098479, 0.76733647,\n",
       "        2.        ],\n",
       "       ...,\n",
       "       [1.2171573 , 0.00381873, 0.70702961, ..., 0.6411668 , 1.04375385,\n",
       "        2.        ],\n",
       "       [0.76685229, 1.123912  , 0.01858215, ..., 0.04062075, 0.09508749,\n",
       "        2.        ],\n",
       "       [0.53794328, 1.123912  , 0.27415947, ..., 0.6411668 , 0.95751145,\n",
       "        3.        ]])"
      ]
     },
     "execution_count": 70,
     "metadata": {},
     "output_type": "execute_result"
    }
   ],
   "source": [
    "final_arr"
   ]
  },
  {
   "cell_type": "code",
   "execution_count": 71,
   "metadata": {},
   "outputs": [
    {
     "data": {
      "text/plain": [
       "array([2., 2., 2., ..., 2., 2., 3.])"
      ]
     },
     "execution_count": 71,
     "metadata": {},
     "output_type": "execute_result"
    }
   ],
   "source": [
    "final_arr[:,-1]"
   ]
  },
  {
   "cell_type": "code",
   "execution_count": 72,
   "metadata": {},
   "outputs": [],
   "source": [
    "from sklearn import ensemble\n",
    "from sklearn.ensemble import RandomForestClassifier\n",
    "from sklearn.model_selection import train_test_split\n",
    "import xgboost as xgb"
   ]
  },
  {
   "cell_type": "code",
   "execution_count": 73,
   "metadata": {},
   "outputs": [],
   "source": [
    "y = final_arr[:,-1]"
   ]
  },
  {
   "cell_type": "code",
   "execution_count": 74,
   "metadata": {},
   "outputs": [
    {
     "data": {
      "text/plain": [
       "array([2., 2., 2., ..., 2., 2., 3.])"
      ]
     },
     "execution_count": 74,
     "metadata": {},
     "output_type": "execute_result"
    }
   ],
   "source": [
    "y"
   ]
  },
  {
   "cell_type": "code",
   "execution_count": 75,
   "metadata": {},
   "outputs": [],
   "source": [
    "train = final_arr[:,:-1]"
   ]
  },
  {
   "cell_type": "code",
   "execution_count": 76,
   "metadata": {},
   "outputs": [
    {
     "data": {
      "text/plain": [
       "(78997, 7)"
      ]
     },
     "execution_count": 76,
     "metadata": {},
     "output_type": "execute_result"
    }
   ],
   "source": [
    "train.shape"
   ]
  },
  {
   "cell_type": "code",
   "execution_count": 77,
   "metadata": {},
   "outputs": [],
   "source": [
    "x_train,x_test,y_train,y_test = train_test_split(train,y,random_state=0,test_size=0.25)"
   ]
  },
  {
   "cell_type": "code",
   "execution_count": 78,
   "metadata": {},
   "outputs": [],
   "source": [
    "clf=RandomForestClassifier(n_estimators=100,criterion='gini',max_depth=10)"
   ]
  },
  {
   "cell_type": "code",
   "execution_count": 79,
   "metadata": {},
   "outputs": [
    {
     "data": {
      "text/plain": [
       "RandomForestClassifier(bootstrap=True, class_weight=None, criterion='gini',\n",
       "            max_depth=10, max_features='auto', max_leaf_nodes=None,\n",
       "            min_impurity_decrease=0.0, min_impurity_split=None,\n",
       "            min_samples_leaf=1, min_samples_split=2,\n",
       "            min_weight_fraction_leaf=0.0, n_estimators=100, n_jobs=None,\n",
       "            oob_score=False, random_state=None, verbose=0,\n",
       "            warm_start=False)"
      ]
     },
     "execution_count": 79,
     "metadata": {},
     "output_type": "execute_result"
    }
   ],
   "source": [
    "clf.fit(x_train,y_train)"
   ]
  },
  {
   "cell_type": "code",
   "execution_count": 80,
   "metadata": {},
   "outputs": [],
   "source": [
    "ypred = clf.predict(x_test)"
   ]
  },
  {
   "cell_type": "code",
   "execution_count": 81,
   "metadata": {},
   "outputs": [
    {
     "data": {
      "text/plain": [
       "0.4747341772151899"
      ]
     },
     "execution_count": 81,
     "metadata": {},
     "output_type": "execute_result"
    }
   ],
   "source": [
    "clf.score(x_test,y_test)"
   ]
  },
  {
   "cell_type": "code",
   "execution_count": 224,
   "metadata": {},
   "outputs": [
    {
     "data": {
      "text/html": [
       "<div>\n",
       "<style scoped>\n",
       "    .dataframe tbody tr th:only-of-type {\n",
       "        vertical-align: middle;\n",
       "    }\n",
       "\n",
       "    .dataframe tbody tr th {\n",
       "        vertical-align: top;\n",
       "    }\n",
       "\n",
       "    .dataframe thead th {\n",
       "        text-align: right;\n",
       "    }\n",
       "</style>\n",
       "<table border=\"1\" class=\"dataframe\">\n",
       "  <thead>\n",
       "    <tr style=\"text-align: right;\">\n",
       "      <th></th>\n",
       "      <th>id</th>\n",
       "      <th>distance</th>\n",
       "      <th>taxi_type</th>\n",
       "      <th>months_of_activity</th>\n",
       "      <th>customer_score</th>\n",
       "      <th>customer_score_confidence</th>\n",
       "      <th>drop_location_type</th>\n",
       "      <th>ratings_given_by_cust</th>\n",
       "      <th>num_of_cancelled_trips</th>\n",
       "      <th>anon_var_1</th>\n",
       "      <th>anon_var_2</th>\n",
       "      <th>anon_var_3</th>\n",
       "      <th>sex</th>\n",
       "    </tr>\n",
       "  </thead>\n",
       "  <tbody>\n",
       "    <tr>\n",
       "      <th>0</th>\n",
       "      <td>T0005834792</td>\n",
       "      <td>36.30</td>\n",
       "      <td>C</td>\n",
       "      <td>5.0</td>\n",
       "      <td>NaN</td>\n",
       "      <td>NaN</td>\n",
       "      <td>B</td>\n",
       "      <td>2.37500</td>\n",
       "      <td>0</td>\n",
       "      <td>NaN</td>\n",
       "      <td>49</td>\n",
       "      <td>86</td>\n",
       "      <td>Female</td>\n",
       "    </tr>\n",
       "    <tr>\n",
       "      <th>1</th>\n",
       "      <td>T0005896349</td>\n",
       "      <td>22.56</td>\n",
       "      <td>NaN</td>\n",
       "      <td>5.0</td>\n",
       "      <td>2.80098</td>\n",
       "      <td>A</td>\n",
       "      <td>C</td>\n",
       "      <td>2.30875</td>\n",
       "      <td>0</td>\n",
       "      <td>NaN</td>\n",
       "      <td>51</td>\n",
       "      <td>67</td>\n",
       "      <td>Male</td>\n",
       "    </tr>\n",
       "    <tr>\n",
       "      <th>2</th>\n",
       "      <td>T0005775167</td>\n",
       "      <td>75.09</td>\n",
       "      <td>A</td>\n",
       "      <td>8.0</td>\n",
       "      <td>NaN</td>\n",
       "      <td>NaN</td>\n",
       "      <td>B</td>\n",
       "      <td>3.54000</td>\n",
       "      <td>0</td>\n",
       "      <td>NaN</td>\n",
       "      <td>49</td>\n",
       "      <td>65</td>\n",
       "      <td>Male</td>\n",
       "    </tr>\n",
       "    <tr>\n",
       "      <th>3</th>\n",
       "      <td>T0005776893</td>\n",
       "      <td>59.44</td>\n",
       "      <td>C</td>\n",
       "      <td>8.0</td>\n",
       "      <td>NaN</td>\n",
       "      <td>NaN</td>\n",
       "      <td>A</td>\n",
       "      <td>2.86500</td>\n",
       "      <td>2</td>\n",
       "      <td>68.0</td>\n",
       "      <td>53</td>\n",
       "      <td>86</td>\n",
       "      <td>Male</td>\n",
       "    </tr>\n",
       "    <tr>\n",
       "      <th>4</th>\n",
       "      <td>T0005801375</td>\n",
       "      <td>109.21</td>\n",
       "      <td>D</td>\n",
       "      <td>10.0</td>\n",
       "      <td>3.23056</td>\n",
       "      <td>B</td>\n",
       "      <td>A</td>\n",
       "      <td>2.70000</td>\n",
       "      <td>1</td>\n",
       "      <td>43.0</td>\n",
       "      <td>56</td>\n",
       "      <td>92</td>\n",
       "      <td>Female</td>\n",
       "    </tr>\n",
       "  </tbody>\n",
       "</table>\n",
       "</div>"
      ],
      "text/plain": [
       "            id  distance taxi_type  months_of_activity  customer_score  \\\n",
       "0  T0005834792     36.30         C                 5.0             NaN   \n",
       "1  T0005896349     22.56       NaN                 5.0         2.80098   \n",
       "2  T0005775167     75.09         A                 8.0             NaN   \n",
       "3  T0005776893     59.44         C                 8.0             NaN   \n",
       "4  T0005801375    109.21         D                10.0         3.23056   \n",
       "\n",
       "  customer_score_confidence drop_location_type  ratings_given_by_cust  \\\n",
       "0                       NaN                  B                2.37500   \n",
       "1                         A                  C                2.30875   \n",
       "2                       NaN                  B                3.54000   \n",
       "3                       NaN                  A                2.86500   \n",
       "4                         B                  A                2.70000   \n",
       "\n",
       "   num_of_cancelled_trips  anon_var_1  anon_var_2  anon_var_3     sex  \n",
       "0                       0         NaN          49          86  Female  \n",
       "1                       0         NaN          51          67    Male  \n",
       "2                       0         NaN          49          65    Male  \n",
       "3                       2        68.0          53          86    Male  \n",
       "4                       1        43.0          56          92  Female  "
      ]
     },
     "execution_count": 224,
     "metadata": {},
     "output_type": "execute_result"
    }
   ],
   "source": [
    "test_data=pd.read_csv('test.csv')\n",
    "test_data.head()"
   ]
  },
  {
   "cell_type": "code",
   "execution_count": 225,
   "metadata": {},
   "outputs": [
    {
     "name": "stdout",
     "output_type": "stream",
     "text": [
      "id                               0\n",
      "distance                         0\n",
      "taxi_type                     8058\n",
      "months_of_activity            2387\n",
      "customer_score                8152\n",
      "customer_score_confidence     8152\n",
      "drop_location_type               0\n",
      "ratings_given_by_cust            0\n",
      "num_of_cancelled_trips           0\n",
      "anon_var_1                   28611\n",
      "anon_var_2                       0\n",
      "anon_var_3                       0\n",
      "sex                              0\n",
      "dtype: int64\n"
     ]
    }
   ],
   "source": [
    "#Identify null values\n",
    "print(test_data.isnull().sum())"
   ]
  },
  {
   "cell_type": "code",
   "execution_count": 226,
   "metadata": {},
   "outputs": [],
   "source": [
    "test_data.drop(columns=['anon_var_1'],inplace=True)"
   ]
  },
  {
   "cell_type": "code",
   "execution_count": 227,
   "metadata": {},
   "outputs": [],
   "source": [
    "values = {'taxi_type': 'B', 'customer_score_confidence': 'B'}\n",
    "test_data.fillna(value=values,inplace=True)"
   ]
  },
  {
   "cell_type": "code",
   "execution_count": 228,
   "metadata": {},
   "outputs": [
    {
     "name": "stdout",
     "output_type": "stream",
     "text": [
      "id                              0\n",
      "distance                        0\n",
      "taxi_type                       0\n",
      "months_of_activity           2387\n",
      "customer_score               8152\n",
      "customer_score_confidence       0\n",
      "drop_location_type              0\n",
      "ratings_given_by_cust           0\n",
      "num_of_cancelled_trips          0\n",
      "anon_var_2                      0\n",
      "anon_var_3                      0\n",
      "sex                             0\n",
      "dtype: int64\n"
     ]
    }
   ],
   "source": [
    "#Identify null values\n",
    "print(test_data.isnull().sum())"
   ]
  },
  {
   "cell_type": "code",
   "execution_count": 229,
   "metadata": {},
   "outputs": [],
   "source": [
    "test_data['months_of_activity'] = test_data['months_of_activity'].fillna((test_data['months_of_activity'].median()))"
   ]
  },
  {
   "cell_type": "code",
   "execution_count": 230,
   "metadata": {},
   "outputs": [],
   "source": [
    "test_data['customer_score'] = test_data['customer_score'].fillna((test_data['customer_score'].median()))"
   ]
  },
  {
   "cell_type": "code",
   "execution_count": 231,
   "metadata": {},
   "outputs": [
    {
     "name": "stdout",
     "output_type": "stream",
     "text": [
      "id                           0\n",
      "distance                     0\n",
      "taxi_type                    0\n",
      "months_of_activity           0\n",
      "customer_score               0\n",
      "customer_score_confidence    0\n",
      "drop_location_type           0\n",
      "ratings_given_by_cust        0\n",
      "num_of_cancelled_trips       0\n",
      "anon_var_2                   0\n",
      "anon_var_3                   0\n",
      "sex                          0\n",
      "dtype: int64\n"
     ]
    }
   ],
   "source": [
    "#Identify null values\n",
    "print(test_data.isnull().sum())"
   ]
  },
  {
   "cell_type": "code",
   "execution_count": 232,
   "metadata": {},
   "outputs": [
    {
     "data": {
      "text/html": [
       "<div>\n",
       "<style scoped>\n",
       "    .dataframe tbody tr th:only-of-type {\n",
       "        vertical-align: middle;\n",
       "    }\n",
       "\n",
       "    .dataframe tbody tr th {\n",
       "        vertical-align: top;\n",
       "    }\n",
       "\n",
       "    .dataframe thead th {\n",
       "        text-align: right;\n",
       "    }\n",
       "</style>\n",
       "<table border=\"1\" class=\"dataframe\">\n",
       "  <thead>\n",
       "    <tr style=\"text-align: right;\">\n",
       "      <th></th>\n",
       "      <th>id</th>\n",
       "      <th>distance</th>\n",
       "      <th>taxi_type</th>\n",
       "      <th>months_of_activity</th>\n",
       "      <th>customer_score</th>\n",
       "      <th>customer_score_confidence</th>\n",
       "      <th>drop_location_type</th>\n",
       "      <th>ratings_given_by_cust</th>\n",
       "      <th>num_of_cancelled_trips</th>\n",
       "      <th>anon_var_2</th>\n",
       "      <th>anon_var_3</th>\n",
       "      <th>sex</th>\n",
       "    </tr>\n",
       "  </thead>\n",
       "  <tbody>\n",
       "    <tr>\n",
       "      <th>0</th>\n",
       "      <td>T0005834792</td>\n",
       "      <td>36.30</td>\n",
       "      <td>C</td>\n",
       "      <td>5.0</td>\n",
       "      <td>2.79985</td>\n",
       "      <td>B</td>\n",
       "      <td>B</td>\n",
       "      <td>2.37500</td>\n",
       "      <td>0</td>\n",
       "      <td>49</td>\n",
       "      <td>86</td>\n",
       "      <td>Female</td>\n",
       "    </tr>\n",
       "    <tr>\n",
       "      <th>1</th>\n",
       "      <td>T0005896349</td>\n",
       "      <td>22.56</td>\n",
       "      <td>B</td>\n",
       "      <td>5.0</td>\n",
       "      <td>2.80098</td>\n",
       "      <td>A</td>\n",
       "      <td>C</td>\n",
       "      <td>2.30875</td>\n",
       "      <td>0</td>\n",
       "      <td>51</td>\n",
       "      <td>67</td>\n",
       "      <td>Male</td>\n",
       "    </tr>\n",
       "    <tr>\n",
       "      <th>2</th>\n",
       "      <td>T0005775167</td>\n",
       "      <td>75.09</td>\n",
       "      <td>A</td>\n",
       "      <td>8.0</td>\n",
       "      <td>2.79985</td>\n",
       "      <td>B</td>\n",
       "      <td>B</td>\n",
       "      <td>3.54000</td>\n",
       "      <td>0</td>\n",
       "      <td>49</td>\n",
       "      <td>65</td>\n",
       "      <td>Male</td>\n",
       "    </tr>\n",
       "    <tr>\n",
       "      <th>3</th>\n",
       "      <td>T0005776893</td>\n",
       "      <td>59.44</td>\n",
       "      <td>C</td>\n",
       "      <td>8.0</td>\n",
       "      <td>2.79985</td>\n",
       "      <td>B</td>\n",
       "      <td>A</td>\n",
       "      <td>2.86500</td>\n",
       "      <td>2</td>\n",
       "      <td>53</td>\n",
       "      <td>86</td>\n",
       "      <td>Male</td>\n",
       "    </tr>\n",
       "    <tr>\n",
       "      <th>4</th>\n",
       "      <td>T0005801375</td>\n",
       "      <td>109.21</td>\n",
       "      <td>D</td>\n",
       "      <td>10.0</td>\n",
       "      <td>3.23056</td>\n",
       "      <td>B</td>\n",
       "      <td>A</td>\n",
       "      <td>2.70000</td>\n",
       "      <td>1</td>\n",
       "      <td>56</td>\n",
       "      <td>92</td>\n",
       "      <td>Female</td>\n",
       "    </tr>\n",
       "  </tbody>\n",
       "</table>\n",
       "</div>"
      ],
      "text/plain": [
       "            id  distance taxi_type  months_of_activity  customer_score  \\\n",
       "0  T0005834792     36.30         C                 5.0         2.79985   \n",
       "1  T0005896349     22.56         B                 5.0         2.80098   \n",
       "2  T0005775167     75.09         A                 8.0         2.79985   \n",
       "3  T0005776893     59.44         C                 8.0         2.79985   \n",
       "4  T0005801375    109.21         D                10.0         3.23056   \n",
       "\n",
       "  customer_score_confidence drop_location_type  ratings_given_by_cust  \\\n",
       "0                         B                  B                2.37500   \n",
       "1                         A                  C                2.30875   \n",
       "2                         B                  B                3.54000   \n",
       "3                         B                  A                2.86500   \n",
       "4                         B                  A                2.70000   \n",
       "\n",
       "   num_of_cancelled_trips  anon_var_2  anon_var_3     sex  \n",
       "0                       0          49          86  Female  \n",
       "1                       0          51          67    Male  \n",
       "2                       0          49          65    Male  \n",
       "3                       2          53          86    Male  \n",
       "4                       1          56          92  Female  "
      ]
     },
     "execution_count": 232,
     "metadata": {},
     "output_type": "execute_result"
    }
   ],
   "source": [
    "test_data.head()"
   ]
  },
  {
   "cell_type": "code",
   "execution_count": 233,
   "metadata": {},
   "outputs": [],
   "source": [
    "tnewDataFrame=test_data[['taxi_type','customer_score_confidence','drop_location_type']]"
   ]
  },
  {
   "cell_type": "code",
   "execution_count": 234,
   "metadata": {},
   "outputs": [],
   "source": [
    "test_data.drop(columns=['taxi_type','customer_score_confidence','drop_location_type'],inplace=True)"
   ]
  },
  {
   "cell_type": "code",
   "execution_count": 235,
   "metadata": {},
   "outputs": [
    {
     "data": {
      "text/html": [
       "<div>\n",
       "<style scoped>\n",
       "    .dataframe tbody tr th:only-of-type {\n",
       "        vertical-align: middle;\n",
       "    }\n",
       "\n",
       "    .dataframe tbody tr th {\n",
       "        vertical-align: top;\n",
       "    }\n",
       "\n",
       "    .dataframe thead th {\n",
       "        text-align: right;\n",
       "    }\n",
       "</style>\n",
       "<table border=\"1\" class=\"dataframe\">\n",
       "  <thead>\n",
       "    <tr style=\"text-align: right;\">\n",
       "      <th></th>\n",
       "      <th>id</th>\n",
       "      <th>distance</th>\n",
       "      <th>months_of_activity</th>\n",
       "      <th>customer_score</th>\n",
       "      <th>ratings_given_by_cust</th>\n",
       "      <th>num_of_cancelled_trips</th>\n",
       "      <th>anon_var_2</th>\n",
       "      <th>anon_var_3</th>\n",
       "      <th>sex</th>\n",
       "    </tr>\n",
       "  </thead>\n",
       "  <tbody>\n",
       "    <tr>\n",
       "      <th>0</th>\n",
       "      <td>T0005834792</td>\n",
       "      <td>36.30</td>\n",
       "      <td>5.0</td>\n",
       "      <td>2.79985</td>\n",
       "      <td>2.37500</td>\n",
       "      <td>0</td>\n",
       "      <td>49</td>\n",
       "      <td>86</td>\n",
       "      <td>Female</td>\n",
       "    </tr>\n",
       "    <tr>\n",
       "      <th>1</th>\n",
       "      <td>T0005896349</td>\n",
       "      <td>22.56</td>\n",
       "      <td>5.0</td>\n",
       "      <td>2.80098</td>\n",
       "      <td>2.30875</td>\n",
       "      <td>0</td>\n",
       "      <td>51</td>\n",
       "      <td>67</td>\n",
       "      <td>Male</td>\n",
       "    </tr>\n",
       "    <tr>\n",
       "      <th>2</th>\n",
       "      <td>T0005775167</td>\n",
       "      <td>75.09</td>\n",
       "      <td>8.0</td>\n",
       "      <td>2.79985</td>\n",
       "      <td>3.54000</td>\n",
       "      <td>0</td>\n",
       "      <td>49</td>\n",
       "      <td>65</td>\n",
       "      <td>Male</td>\n",
       "    </tr>\n",
       "    <tr>\n",
       "      <th>3</th>\n",
       "      <td>T0005776893</td>\n",
       "      <td>59.44</td>\n",
       "      <td>8.0</td>\n",
       "      <td>2.79985</td>\n",
       "      <td>2.86500</td>\n",
       "      <td>2</td>\n",
       "      <td>53</td>\n",
       "      <td>86</td>\n",
       "      <td>Male</td>\n",
       "    </tr>\n",
       "    <tr>\n",
       "      <th>4</th>\n",
       "      <td>T0005801375</td>\n",
       "      <td>109.21</td>\n",
       "      <td>10.0</td>\n",
       "      <td>3.23056</td>\n",
       "      <td>2.70000</td>\n",
       "      <td>1</td>\n",
       "      <td>56</td>\n",
       "      <td>92</td>\n",
       "      <td>Female</td>\n",
       "    </tr>\n",
       "  </tbody>\n",
       "</table>\n",
       "</div>"
      ],
      "text/plain": [
       "            id  distance  months_of_activity  customer_score  \\\n",
       "0  T0005834792     36.30                 5.0         2.79985   \n",
       "1  T0005896349     22.56                 5.0         2.80098   \n",
       "2  T0005775167     75.09                 8.0         2.79985   \n",
       "3  T0005776893     59.44                 8.0         2.79985   \n",
       "4  T0005801375    109.21                10.0         3.23056   \n",
       "\n",
       "   ratings_given_by_cust  num_of_cancelled_trips  anon_var_2  anon_var_3  \\\n",
       "0                2.37500                       0          49          86   \n",
       "1                2.30875                       0          51          67   \n",
       "2                3.54000                       0          49          65   \n",
       "3                2.86500                       2          53          86   \n",
       "4                2.70000                       1          56          92   \n",
       "\n",
       "      sex  \n",
       "0  Female  \n",
       "1    Male  \n",
       "2    Male  \n",
       "3    Male  \n",
       "4  Female  "
      ]
     },
     "execution_count": 235,
     "metadata": {},
     "output_type": "execute_result"
    }
   ],
   "source": [
    "test_data.head()"
   ]
  },
  {
   "cell_type": "code",
   "execution_count": 236,
   "metadata": {},
   "outputs": [],
   "source": [
    "id_col=test_data['id']"
   ]
  },
  {
   "cell_type": "code",
   "execution_count": 237,
   "metadata": {},
   "outputs": [],
   "source": [
    "test_data.drop(columns=['id','sex'],inplace=True)"
   ]
  },
  {
   "cell_type": "code",
   "execution_count": 238,
   "metadata": {},
   "outputs": [
    {
     "data": {
      "text/html": [
       "<div>\n",
       "<style scoped>\n",
       "    .dataframe tbody tr th:only-of-type {\n",
       "        vertical-align: middle;\n",
       "    }\n",
       "\n",
       "    .dataframe tbody tr th {\n",
       "        vertical-align: top;\n",
       "    }\n",
       "\n",
       "    .dataframe thead th {\n",
       "        text-align: right;\n",
       "    }\n",
       "</style>\n",
       "<table border=\"1\" class=\"dataframe\">\n",
       "  <thead>\n",
       "    <tr style=\"text-align: right;\">\n",
       "      <th></th>\n",
       "      <th>distance</th>\n",
       "      <th>months_of_activity</th>\n",
       "      <th>customer_score</th>\n",
       "      <th>ratings_given_by_cust</th>\n",
       "      <th>num_of_cancelled_trips</th>\n",
       "      <th>anon_var_2</th>\n",
       "      <th>anon_var_3</th>\n",
       "    </tr>\n",
       "  </thead>\n",
       "  <tbody>\n",
       "    <tr>\n",
       "      <th>0</th>\n",
       "      <td>36.30</td>\n",
       "      <td>5.0</td>\n",
       "      <td>2.79985</td>\n",
       "      <td>2.37500</td>\n",
       "      <td>0</td>\n",
       "      <td>49</td>\n",
       "      <td>86</td>\n",
       "    </tr>\n",
       "    <tr>\n",
       "      <th>1</th>\n",
       "      <td>22.56</td>\n",
       "      <td>5.0</td>\n",
       "      <td>2.80098</td>\n",
       "      <td>2.30875</td>\n",
       "      <td>0</td>\n",
       "      <td>51</td>\n",
       "      <td>67</td>\n",
       "    </tr>\n",
       "    <tr>\n",
       "      <th>2</th>\n",
       "      <td>75.09</td>\n",
       "      <td>8.0</td>\n",
       "      <td>2.79985</td>\n",
       "      <td>3.54000</td>\n",
       "      <td>0</td>\n",
       "      <td>49</td>\n",
       "      <td>65</td>\n",
       "    </tr>\n",
       "    <tr>\n",
       "      <th>3</th>\n",
       "      <td>59.44</td>\n",
       "      <td>8.0</td>\n",
       "      <td>2.79985</td>\n",
       "      <td>2.86500</td>\n",
       "      <td>2</td>\n",
       "      <td>53</td>\n",
       "      <td>86</td>\n",
       "    </tr>\n",
       "    <tr>\n",
       "      <th>4</th>\n",
       "      <td>109.21</td>\n",
       "      <td>10.0</td>\n",
       "      <td>3.23056</td>\n",
       "      <td>2.70000</td>\n",
       "      <td>1</td>\n",
       "      <td>56</td>\n",
       "      <td>92</td>\n",
       "    </tr>\n",
       "  </tbody>\n",
       "</table>\n",
       "</div>"
      ],
      "text/plain": [
       "   distance  months_of_activity  customer_score  ratings_given_by_cust  \\\n",
       "0     36.30                 5.0         2.79985                2.37500   \n",
       "1     22.56                 5.0         2.80098                2.30875   \n",
       "2     75.09                 8.0         2.79985                3.54000   \n",
       "3     59.44                 8.0         2.79985                2.86500   \n",
       "4    109.21                10.0         3.23056                2.70000   \n",
       "\n",
       "   num_of_cancelled_trips  anon_var_2  anon_var_3  \n",
       "0                       0          49          86  \n",
       "1                       0          51          67  \n",
       "2                       0          49          65  \n",
       "3                       2          53          86  \n",
       "4                       1          56          92  "
      ]
     },
     "execution_count": 238,
     "metadata": {},
     "output_type": "execute_result"
    }
   ],
   "source": [
    "test_data.head()"
   ]
  },
  {
   "cell_type": "code",
   "execution_count": 239,
   "metadata": {},
   "outputs": [],
   "source": [
    "test_arr_val=test_data.values"
   ]
  },
  {
   "cell_type": "code",
   "execution_count": 240,
   "metadata": {},
   "outputs": [],
   "source": [
    "for i in range(len(test_arr_val[0])-1):\n",
    "    \n",
    "    mean = np.mean(test_arr_val[:,i])\n",
    "    std = np.std(test_arr_val[:,i])\n",
    "    test_arr_val[:, i] = abs((mean - test_arr_val[:,i]) / std)"
   ]
  },
  {
   "cell_type": "code",
   "execution_count": 241,
   "metadata": {},
   "outputs": [
    {
     "data": {
      "text/plain": [
       "array([[3.09928195e-01, 2.87937481e-01, 1.28067058e-02, ...,\n",
       "        7.51873724e-01, 4.42996601e-01, 8.60000000e+01],\n",
       "       [8.48950816e-01, 2.87937481e-01, 7.34999102e-03, ...,\n",
       "        7.51873724e-01, 4.07515170e-02, 6.70000000e+01],\n",
       "       [1.21181034e+00, 5.59383851e-01, 1.28067058e-02, ...,\n",
       "        7.51873724e-01, 4.42996601e-01, 6.50000000e+01],\n",
       "       ...,\n",
       "       [9.36041808e-01, 5.70377925e-01, 1.39688069e+00, ...,\n",
       "        7.51873724e-01, 8.45241685e-01, 6.20000000e+01],\n",
       "       [1.28754419e+00, 1.70013970e+00, 1.27461165e+00, ...,\n",
       "        1.17346261e+00, 4.42996601e-01, 6.30000000e+01],\n",
       "       [2.22002587e+00, 1.12426474e+00, 4.87569214e-01, ...,\n",
       "        2.10794442e-01, 9.64861193e-01, 8.20000000e+01]])"
      ]
     },
     "execution_count": 241,
     "metadata": {},
     "output_type": "execute_result"
    }
   ],
   "source": [
    "test_arr_val"
   ]
  },
  {
   "cell_type": "code",
   "execution_count": null,
   "metadata": {},
   "outputs": [],
   "source": []
  },
  {
   "cell_type": "code",
   "execution_count": 242,
   "metadata": {},
   "outputs": [],
   "source": [
    "test_dummies_taxi_type=pd.get_dummies(tnewDataFrame.taxi_type,prefix='T_')"
   ]
  },
  {
   "cell_type": "code",
   "execution_count": 243,
   "metadata": {},
   "outputs": [],
   "source": [
    "tnewDataFrame=pd.concat([test_dummies_taxi_type,tnewDataFrame],axis='columns')"
   ]
  },
  {
   "cell_type": "code",
   "execution_count": 244,
   "metadata": {},
   "outputs": [],
   "source": [
    "tnewDataFrame.drop(columns=['taxi_type'],inplace=True)"
   ]
  },
  {
   "cell_type": "code",
   "execution_count": 245,
   "metadata": {},
   "outputs": [
    {
     "data": {
      "text/html": [
       "<div>\n",
       "<style scoped>\n",
       "    .dataframe tbody tr th:only-of-type {\n",
       "        vertical-align: middle;\n",
       "    }\n",
       "\n",
       "    .dataframe tbody tr th {\n",
       "        vertical-align: top;\n",
       "    }\n",
       "\n",
       "    .dataframe thead th {\n",
       "        text-align: right;\n",
       "    }\n",
       "</style>\n",
       "<table border=\"1\" class=\"dataframe\">\n",
       "  <thead>\n",
       "    <tr style=\"text-align: right;\">\n",
       "      <th></th>\n",
       "      <th>T__A</th>\n",
       "      <th>T__B</th>\n",
       "      <th>T__C</th>\n",
       "      <th>T__D</th>\n",
       "      <th>T__E</th>\n",
       "      <th>customer_score_confidence</th>\n",
       "      <th>drop_location_type</th>\n",
       "    </tr>\n",
       "  </thead>\n",
       "  <tbody>\n",
       "    <tr>\n",
       "      <th>0</th>\n",
       "      <td>0</td>\n",
       "      <td>0</td>\n",
       "      <td>1</td>\n",
       "      <td>0</td>\n",
       "      <td>0</td>\n",
       "      <td>B</td>\n",
       "      <td>B</td>\n",
       "    </tr>\n",
       "    <tr>\n",
       "      <th>1</th>\n",
       "      <td>0</td>\n",
       "      <td>1</td>\n",
       "      <td>0</td>\n",
       "      <td>0</td>\n",
       "      <td>0</td>\n",
       "      <td>A</td>\n",
       "      <td>C</td>\n",
       "    </tr>\n",
       "    <tr>\n",
       "      <th>2</th>\n",
       "      <td>1</td>\n",
       "      <td>0</td>\n",
       "      <td>0</td>\n",
       "      <td>0</td>\n",
       "      <td>0</td>\n",
       "      <td>B</td>\n",
       "      <td>B</td>\n",
       "    </tr>\n",
       "    <tr>\n",
       "      <th>3</th>\n",
       "      <td>0</td>\n",
       "      <td>0</td>\n",
       "      <td>1</td>\n",
       "      <td>0</td>\n",
       "      <td>0</td>\n",
       "      <td>B</td>\n",
       "      <td>A</td>\n",
       "    </tr>\n",
       "    <tr>\n",
       "      <th>4</th>\n",
       "      <td>0</td>\n",
       "      <td>0</td>\n",
       "      <td>0</td>\n",
       "      <td>1</td>\n",
       "      <td>0</td>\n",
       "      <td>B</td>\n",
       "      <td>A</td>\n",
       "    </tr>\n",
       "  </tbody>\n",
       "</table>\n",
       "</div>"
      ],
      "text/plain": [
       "   T__A  T__B  T__C  T__D  T__E customer_score_confidence drop_location_type\n",
       "0     0     0     1     0     0                         B                  B\n",
       "1     0     1     0     0     0                         A                  C\n",
       "2     1     0     0     0     0                         B                  B\n",
       "3     0     0     1     0     0                         B                  A\n",
       "4     0     0     0     1     0                         B                  A"
      ]
     },
     "execution_count": 245,
     "metadata": {},
     "output_type": "execute_result"
    }
   ],
   "source": [
    "tnewDataFrame.head()"
   ]
  },
  {
   "cell_type": "code",
   "execution_count": 246,
   "metadata": {},
   "outputs": [],
   "source": [
    "test_customer_score_confidence=pd.get_dummies(tnewDataFrame.customer_score_confidence,prefix='csc_')"
   ]
  },
  {
   "cell_type": "code",
   "execution_count": 247,
   "metadata": {},
   "outputs": [],
   "source": [
    "tnewDataFrame=pd.concat([test_customer_score_confidence,tnewDataFrame],axis='columns')"
   ]
  },
  {
   "cell_type": "code",
   "execution_count": 248,
   "metadata": {},
   "outputs": [],
   "source": [
    "tnewDataFrame.drop(columns=['customer_score_confidence'],inplace=True)"
   ]
  },
  {
   "cell_type": "code",
   "execution_count": 249,
   "metadata": {},
   "outputs": [
    {
     "data": {
      "text/html": [
       "<div>\n",
       "<style scoped>\n",
       "    .dataframe tbody tr th:only-of-type {\n",
       "        vertical-align: middle;\n",
       "    }\n",
       "\n",
       "    .dataframe tbody tr th {\n",
       "        vertical-align: top;\n",
       "    }\n",
       "\n",
       "    .dataframe thead th {\n",
       "        text-align: right;\n",
       "    }\n",
       "</style>\n",
       "<table border=\"1\" class=\"dataframe\">\n",
       "  <thead>\n",
       "    <tr style=\"text-align: right;\">\n",
       "      <th></th>\n",
       "      <th>csc__A</th>\n",
       "      <th>csc__B</th>\n",
       "      <th>csc__C</th>\n",
       "      <th>T__A</th>\n",
       "      <th>T__B</th>\n",
       "      <th>T__C</th>\n",
       "      <th>T__D</th>\n",
       "      <th>T__E</th>\n",
       "      <th>drop_location_type</th>\n",
       "    </tr>\n",
       "  </thead>\n",
       "  <tbody>\n",
       "    <tr>\n",
       "      <th>0</th>\n",
       "      <td>0</td>\n",
       "      <td>1</td>\n",
       "      <td>0</td>\n",
       "      <td>0</td>\n",
       "      <td>0</td>\n",
       "      <td>1</td>\n",
       "      <td>0</td>\n",
       "      <td>0</td>\n",
       "      <td>B</td>\n",
       "    </tr>\n",
       "    <tr>\n",
       "      <th>1</th>\n",
       "      <td>1</td>\n",
       "      <td>0</td>\n",
       "      <td>0</td>\n",
       "      <td>0</td>\n",
       "      <td>1</td>\n",
       "      <td>0</td>\n",
       "      <td>0</td>\n",
       "      <td>0</td>\n",
       "      <td>C</td>\n",
       "    </tr>\n",
       "    <tr>\n",
       "      <th>2</th>\n",
       "      <td>0</td>\n",
       "      <td>1</td>\n",
       "      <td>0</td>\n",
       "      <td>1</td>\n",
       "      <td>0</td>\n",
       "      <td>0</td>\n",
       "      <td>0</td>\n",
       "      <td>0</td>\n",
       "      <td>B</td>\n",
       "    </tr>\n",
       "    <tr>\n",
       "      <th>3</th>\n",
       "      <td>0</td>\n",
       "      <td>1</td>\n",
       "      <td>0</td>\n",
       "      <td>0</td>\n",
       "      <td>0</td>\n",
       "      <td>1</td>\n",
       "      <td>0</td>\n",
       "      <td>0</td>\n",
       "      <td>A</td>\n",
       "    </tr>\n",
       "    <tr>\n",
       "      <th>4</th>\n",
       "      <td>0</td>\n",
       "      <td>1</td>\n",
       "      <td>0</td>\n",
       "      <td>0</td>\n",
       "      <td>0</td>\n",
       "      <td>0</td>\n",
       "      <td>1</td>\n",
       "      <td>0</td>\n",
       "      <td>A</td>\n",
       "    </tr>\n",
       "  </tbody>\n",
       "</table>\n",
       "</div>"
      ],
      "text/plain": [
       "   csc__A  csc__B  csc__C  T__A  T__B  T__C  T__D  T__E drop_location_type\n",
       "0       0       1       0     0     0     1     0     0                  B\n",
       "1       1       0       0     0     1     0     0     0                  C\n",
       "2       0       1       0     1     0     0     0     0                  B\n",
       "3       0       1       0     0     0     1     0     0                  A\n",
       "4       0       1       0     0     0     0     1     0                  A"
      ]
     },
     "execution_count": 249,
     "metadata": {},
     "output_type": "execute_result"
    }
   ],
   "source": [
    "tnewDataFrame.head()"
   ]
  },
  {
   "cell_type": "code",
   "execution_count": 250,
   "metadata": {},
   "outputs": [],
   "source": [
    "test_drop_location_type=pd.get_dummies(tnewDataFrame.drop_location_type,prefix='dlt_')"
   ]
  },
  {
   "cell_type": "code",
   "execution_count": 251,
   "metadata": {},
   "outputs": [],
   "source": [
    "tnewDataFrame=pd.concat([test_drop_location_type,tnewDataFrame],axis='columns')"
   ]
  },
  {
   "cell_type": "code",
   "execution_count": 252,
   "metadata": {},
   "outputs": [],
   "source": [
    "tnewDataFrame.drop(columns=['drop_location_type'],inplace=True)"
   ]
  },
  {
   "cell_type": "code",
   "execution_count": 253,
   "metadata": {},
   "outputs": [
    {
     "data": {
      "text/html": [
       "<div>\n",
       "<style scoped>\n",
       "    .dataframe tbody tr th:only-of-type {\n",
       "        vertical-align: middle;\n",
       "    }\n",
       "\n",
       "    .dataframe tbody tr th {\n",
       "        vertical-align: top;\n",
       "    }\n",
       "\n",
       "    .dataframe thead th {\n",
       "        text-align: right;\n",
       "    }\n",
       "</style>\n",
       "<table border=\"1\" class=\"dataframe\">\n",
       "  <thead>\n",
       "    <tr style=\"text-align: right;\">\n",
       "      <th></th>\n",
       "      <th>dlt__A</th>\n",
       "      <th>dlt__B</th>\n",
       "      <th>dlt__C</th>\n",
       "      <th>dlt__D</th>\n",
       "      <th>dlt__E</th>\n",
       "      <th>dlt__F</th>\n",
       "      <th>dlt__G</th>\n",
       "      <th>dlt__H</th>\n",
       "      <th>dlt__I</th>\n",
       "      <th>dlt__J</th>\n",
       "      <th>...</th>\n",
       "      <th>dlt__M</th>\n",
       "      <th>dlt__N</th>\n",
       "      <th>csc__A</th>\n",
       "      <th>csc__B</th>\n",
       "      <th>csc__C</th>\n",
       "      <th>T__A</th>\n",
       "      <th>T__B</th>\n",
       "      <th>T__C</th>\n",
       "      <th>T__D</th>\n",
       "      <th>T__E</th>\n",
       "    </tr>\n",
       "  </thead>\n",
       "  <tbody>\n",
       "    <tr>\n",
       "      <th>0</th>\n",
       "      <td>0</td>\n",
       "      <td>1</td>\n",
       "      <td>0</td>\n",
       "      <td>0</td>\n",
       "      <td>0</td>\n",
       "      <td>0</td>\n",
       "      <td>0</td>\n",
       "      <td>0</td>\n",
       "      <td>0</td>\n",
       "      <td>0</td>\n",
       "      <td>...</td>\n",
       "      <td>0</td>\n",
       "      <td>0</td>\n",
       "      <td>0</td>\n",
       "      <td>1</td>\n",
       "      <td>0</td>\n",
       "      <td>0</td>\n",
       "      <td>0</td>\n",
       "      <td>1</td>\n",
       "      <td>0</td>\n",
       "      <td>0</td>\n",
       "    </tr>\n",
       "    <tr>\n",
       "      <th>1</th>\n",
       "      <td>0</td>\n",
       "      <td>0</td>\n",
       "      <td>1</td>\n",
       "      <td>0</td>\n",
       "      <td>0</td>\n",
       "      <td>0</td>\n",
       "      <td>0</td>\n",
       "      <td>0</td>\n",
       "      <td>0</td>\n",
       "      <td>0</td>\n",
       "      <td>...</td>\n",
       "      <td>0</td>\n",
       "      <td>0</td>\n",
       "      <td>1</td>\n",
       "      <td>0</td>\n",
       "      <td>0</td>\n",
       "      <td>0</td>\n",
       "      <td>1</td>\n",
       "      <td>0</td>\n",
       "      <td>0</td>\n",
       "      <td>0</td>\n",
       "    </tr>\n",
       "    <tr>\n",
       "      <th>2</th>\n",
       "      <td>0</td>\n",
       "      <td>1</td>\n",
       "      <td>0</td>\n",
       "      <td>0</td>\n",
       "      <td>0</td>\n",
       "      <td>0</td>\n",
       "      <td>0</td>\n",
       "      <td>0</td>\n",
       "      <td>0</td>\n",
       "      <td>0</td>\n",
       "      <td>...</td>\n",
       "      <td>0</td>\n",
       "      <td>0</td>\n",
       "      <td>0</td>\n",
       "      <td>1</td>\n",
       "      <td>0</td>\n",
       "      <td>1</td>\n",
       "      <td>0</td>\n",
       "      <td>0</td>\n",
       "      <td>0</td>\n",
       "      <td>0</td>\n",
       "    </tr>\n",
       "    <tr>\n",
       "      <th>3</th>\n",
       "      <td>1</td>\n",
       "      <td>0</td>\n",
       "      <td>0</td>\n",
       "      <td>0</td>\n",
       "      <td>0</td>\n",
       "      <td>0</td>\n",
       "      <td>0</td>\n",
       "      <td>0</td>\n",
       "      <td>0</td>\n",
       "      <td>0</td>\n",
       "      <td>...</td>\n",
       "      <td>0</td>\n",
       "      <td>0</td>\n",
       "      <td>0</td>\n",
       "      <td>1</td>\n",
       "      <td>0</td>\n",
       "      <td>0</td>\n",
       "      <td>0</td>\n",
       "      <td>1</td>\n",
       "      <td>0</td>\n",
       "      <td>0</td>\n",
       "    </tr>\n",
       "    <tr>\n",
       "      <th>4</th>\n",
       "      <td>1</td>\n",
       "      <td>0</td>\n",
       "      <td>0</td>\n",
       "      <td>0</td>\n",
       "      <td>0</td>\n",
       "      <td>0</td>\n",
       "      <td>0</td>\n",
       "      <td>0</td>\n",
       "      <td>0</td>\n",
       "      <td>0</td>\n",
       "      <td>...</td>\n",
       "      <td>0</td>\n",
       "      <td>0</td>\n",
       "      <td>0</td>\n",
       "      <td>1</td>\n",
       "      <td>0</td>\n",
       "      <td>0</td>\n",
       "      <td>0</td>\n",
       "      <td>0</td>\n",
       "      <td>1</td>\n",
       "      <td>0</td>\n",
       "    </tr>\n",
       "  </tbody>\n",
       "</table>\n",
       "<p>5 rows × 22 columns</p>\n",
       "</div>"
      ],
      "text/plain": [
       "   dlt__A  dlt__B  dlt__C  dlt__D  dlt__E  dlt__F  dlt__G  dlt__H  dlt__I  \\\n",
       "0       0       1       0       0       0       0       0       0       0   \n",
       "1       0       0       1       0       0       0       0       0       0   \n",
       "2       0       1       0       0       0       0       0       0       0   \n",
       "3       1       0       0       0       0       0       0       0       0   \n",
       "4       1       0       0       0       0       0       0       0       0   \n",
       "\n",
       "   dlt__J  ...   dlt__M  dlt__N  csc__A  csc__B  csc__C  T__A  T__B  T__C  \\\n",
       "0       0  ...        0       0       0       1       0     0     0     1   \n",
       "1       0  ...        0       0       1       0       0     0     1     0   \n",
       "2       0  ...        0       0       0       1       0     1     0     0   \n",
       "3       0  ...        0       0       0       1       0     0     0     1   \n",
       "4       0  ...        0       0       0       1       0     0     0     0   \n",
       "\n",
       "   T__D  T__E  \n",
       "0     0     0  \n",
       "1     0     0  \n",
       "2     0     0  \n",
       "3     0     0  \n",
       "4     1     0  \n",
       "\n",
       "[5 rows x 22 columns]"
      ]
     },
     "execution_count": 253,
     "metadata": {},
     "output_type": "execute_result"
    }
   ],
   "source": [
    "tnewDataFrame.head()"
   ]
  },
  {
   "cell_type": "code",
   "execution_count": 254,
   "metadata": {},
   "outputs": [],
   "source": [
    "test_arr_cat=tnewDataFrame.values"
   ]
  },
  {
   "cell_type": "code",
   "execution_count": 255,
   "metadata": {},
   "outputs": [],
   "source": [
    "final_arr_test=np.column_stack([test_arr_cat, test_arr_val])"
   ]
  },
  {
   "cell_type": "code",
   "execution_count": 256,
   "metadata": {},
   "outputs": [],
   "source": [
    "y_cap=clf.predict(final_arr_test)"
   ]
  },
  {
   "cell_type": "code",
   "execution_count": 257,
   "metadata": {},
   "outputs": [
    {
     "data": {
      "text/plain": [
       "(52665,)"
      ]
     },
     "execution_count": 257,
     "metadata": {},
     "output_type": "execute_result"
    }
   ],
   "source": [
    "y_cap.shape"
   ]
  },
  {
   "cell_type": "code",
   "execution_count": 258,
   "metadata": {},
   "outputs": [],
   "source": [
    "# Write the predictions to a CSV file which we can submit to the competition.\n",
    "submission = pd.DataFrame(\n",
    "    {'id': id_col, 'pricing_category': y_cap},\n",
    "    columns = ['id', 'pricing_category'])\n",
    "submission.to_csv('submission.csv', index = False)"
   ]
  },
  {
   "cell_type": "code",
   "execution_count": 259,
   "metadata": {},
   "outputs": [],
   "source": [
    "sub=pd.read_csv('submission.csv')"
   ]
  },
  {
   "cell_type": "code",
   "execution_count": 260,
   "metadata": {},
   "outputs": [
    {
     "data": {
      "text/plain": [
       "(52665, 2)"
      ]
     },
     "execution_count": 260,
     "metadata": {},
     "output_type": "execute_result"
    }
   ],
   "source": [
    "sub.shape"
   ]
  },
  {
   "cell_type": "code",
   "execution_count": 261,
   "metadata": {},
   "outputs": [],
   "source": [
    "sub['pricing_category'] = sub['pricing_category'].astype(float)"
   ]
  },
  {
   "cell_type": "code",
   "execution_count": 262,
   "metadata": {},
   "outputs": [
    {
     "data": {
      "text/html": [
       "<div>\n",
       "<style scoped>\n",
       "    .dataframe tbody tr th:only-of-type {\n",
       "        vertical-align: middle;\n",
       "    }\n",
       "\n",
       "    .dataframe tbody tr th {\n",
       "        vertical-align: top;\n",
       "    }\n",
       "\n",
       "    .dataframe thead th {\n",
       "        text-align: right;\n",
       "    }\n",
       "</style>\n",
       "<table border=\"1\" class=\"dataframe\">\n",
       "  <thead>\n",
       "    <tr style=\"text-align: right;\">\n",
       "      <th></th>\n",
       "      <th>id</th>\n",
       "      <th>pricing_category</th>\n",
       "    </tr>\n",
       "  </thead>\n",
       "  <tbody>\n",
       "    <tr>\n",
       "      <th>0</th>\n",
       "      <td>T0005834792</td>\n",
       "      <td>2.0</td>\n",
       "    </tr>\n",
       "    <tr>\n",
       "      <th>1</th>\n",
       "      <td>T0005896349</td>\n",
       "      <td>2.0</td>\n",
       "    </tr>\n",
       "    <tr>\n",
       "      <th>2</th>\n",
       "      <td>T0005775167</td>\n",
       "      <td>1.0</td>\n",
       "    </tr>\n",
       "    <tr>\n",
       "      <th>3</th>\n",
       "      <td>T0005776893</td>\n",
       "      <td>2.0</td>\n",
       "    </tr>\n",
       "    <tr>\n",
       "      <th>4</th>\n",
       "      <td>T0005801375</td>\n",
       "      <td>3.0</td>\n",
       "    </tr>\n",
       "  </tbody>\n",
       "</table>\n",
       "</div>"
      ],
      "text/plain": [
       "            id  pricing_category\n",
       "0  T0005834792               2.0\n",
       "1  T0005896349               2.0\n",
       "2  T0005775167               1.0\n",
       "3  T0005776893               2.0\n",
       "4  T0005801375               3.0"
      ]
     },
     "execution_count": 262,
     "metadata": {},
     "output_type": "execute_result"
    }
   ],
   "source": [
    "sub.head()"
   ]
  },
  {
   "cell_type": "code",
   "execution_count": 263,
   "metadata": {},
   "outputs": [],
   "source": [
    "sub.to_csv('submission.csv',index=False)"
   ]
  },
  {
   "cell_type": "code",
   "execution_count": 264,
   "metadata": {},
   "outputs": [],
   "source": [
    "sub=pd.read_csv('submission.csv')"
   ]
  },
  {
   "cell_type": "code",
   "execution_count": 265,
   "metadata": {},
   "outputs": [
    {
     "data": {
      "text/html": [
       "<div>\n",
       "<style scoped>\n",
       "    .dataframe tbody tr th:only-of-type {\n",
       "        vertical-align: middle;\n",
       "    }\n",
       "\n",
       "    .dataframe tbody tr th {\n",
       "        vertical-align: top;\n",
       "    }\n",
       "\n",
       "    .dataframe thead th {\n",
       "        text-align: right;\n",
       "    }\n",
       "</style>\n",
       "<table border=\"1\" class=\"dataframe\">\n",
       "  <thead>\n",
       "    <tr style=\"text-align: right;\">\n",
       "      <th></th>\n",
       "      <th>id</th>\n",
       "      <th>pricing_category</th>\n",
       "    </tr>\n",
       "  </thead>\n",
       "  <tbody>\n",
       "    <tr>\n",
       "      <th>0</th>\n",
       "      <td>T0005834792</td>\n",
       "      <td>2.0</td>\n",
       "    </tr>\n",
       "    <tr>\n",
       "      <th>1</th>\n",
       "      <td>T0005896349</td>\n",
       "      <td>2.0</td>\n",
       "    </tr>\n",
       "    <tr>\n",
       "      <th>2</th>\n",
       "      <td>T0005775167</td>\n",
       "      <td>1.0</td>\n",
       "    </tr>\n",
       "    <tr>\n",
       "      <th>3</th>\n",
       "      <td>T0005776893</td>\n",
       "      <td>2.0</td>\n",
       "    </tr>\n",
       "    <tr>\n",
       "      <th>4</th>\n",
       "      <td>T0005801375</td>\n",
       "      <td>3.0</td>\n",
       "    </tr>\n",
       "  </tbody>\n",
       "</table>\n",
       "</div>"
      ],
      "text/plain": [
       "            id  pricing_category\n",
       "0  T0005834792               2.0\n",
       "1  T0005896349               2.0\n",
       "2  T0005775167               1.0\n",
       "3  T0005776893               2.0\n",
       "4  T0005801375               3.0"
      ]
     },
     "execution_count": 265,
     "metadata": {},
     "output_type": "execute_result"
    }
   ],
   "source": [
    "sub.head()"
   ]
  },
  {
   "cell_type": "code",
   "execution_count": 266,
   "metadata": {},
   "outputs": [],
   "source": [
    "import xgboost as xgb"
   ]
  },
  {
   "cell_type": "code",
   "execution_count": 277,
   "metadata": {},
   "outputs": [
    {
     "data": {
      "text/plain": [
       "XGBClassifier(base_score=0.5, booster='gbtree', colsample_bylevel=1,\n",
       "       colsample_bytree=1, gamma=0, learning_rate=0.1, max_delta_step=0,\n",
       "       max_depth=10, min_child_weight=1, missing=None, n_estimators=100,\n",
       "       n_jobs=1, nthread=None, objective='multi:softprob', random_state=0,\n",
       "       reg_alpha=0, reg_lambda=1, scale_pos_weight=1, seed=None,\n",
       "       silent=True, subsample=1)"
      ]
     },
     "execution_count": 277,
     "metadata": {},
     "output_type": "execute_result"
    }
   ],
   "source": [
    "model=xgb.XGBClassifier( n_estimators=100, max_depth=10)\n",
    "model.fit(x_train,y_train)"
   ]
  },
  {
   "cell_type": "code",
   "execution_count": 278,
   "metadata": {},
   "outputs": [
    {
     "data": {
      "text/plain": [
       "0.6802025316455697"
      ]
     },
     "execution_count": 278,
     "metadata": {},
     "output_type": "execute_result"
    }
   ],
   "source": [
    "model.score(x_test,y_test)"
   ]
  },
  {
   "cell_type": "code",
   "execution_count": 279,
   "metadata": {},
   "outputs": [],
   "source": [
    "y_cap_xgboost=model.predict(final_arr_test)"
   ]
  },
  {
   "cell_type": "code",
   "execution_count": 280,
   "metadata": {},
   "outputs": [],
   "source": [
    "# Write the predictions to a CSV file which we can submit to the competition.\n",
    "submission = pd.DataFrame(\n",
    "    {'id': id_col, 'pricing_category': y_cap_xgboost},\n",
    "    columns = ['id', 'pricing_category'])\n",
    "submission.to_csv('submission.csv', index = False)"
   ]
  },
  {
   "cell_type": "code",
   "execution_count": 281,
   "metadata": {},
   "outputs": [],
   "source": [
    "sub=pd.read_csv('submission.csv')"
   ]
  },
  {
   "cell_type": "code",
   "execution_count": 282,
   "metadata": {},
   "outputs": [],
   "source": [
    "sub['pricing_category'] = sub['pricing_category'].astype(float)"
   ]
  },
  {
   "cell_type": "code",
   "execution_count": 283,
   "metadata": {},
   "outputs": [],
   "source": [
    "sub.to_csv('submission.csv',index=False)"
   ]
  },
  {
   "cell_type": "code",
   "execution_count": 284,
   "metadata": {},
   "outputs": [],
   "source": [
    "sub=pd.read_csv('submission.csv')"
   ]
  },
  {
   "cell_type": "code",
   "execution_count": 285,
   "metadata": {},
   "outputs": [
    {
     "data": {
      "text/html": [
       "<div>\n",
       "<style scoped>\n",
       "    .dataframe tbody tr th:only-of-type {\n",
       "        vertical-align: middle;\n",
       "    }\n",
       "\n",
       "    .dataframe tbody tr th {\n",
       "        vertical-align: top;\n",
       "    }\n",
       "\n",
       "    .dataframe thead th {\n",
       "        text-align: right;\n",
       "    }\n",
       "</style>\n",
       "<table border=\"1\" class=\"dataframe\">\n",
       "  <thead>\n",
       "    <tr style=\"text-align: right;\">\n",
       "      <th></th>\n",
       "      <th>id</th>\n",
       "      <th>pricing_category</th>\n",
       "    </tr>\n",
       "  </thead>\n",
       "  <tbody>\n",
       "    <tr>\n",
       "      <th>0</th>\n",
       "      <td>T0005834792</td>\n",
       "      <td>2.0</td>\n",
       "    </tr>\n",
       "    <tr>\n",
       "      <th>1</th>\n",
       "      <td>T0005896349</td>\n",
       "      <td>2.0</td>\n",
       "    </tr>\n",
       "    <tr>\n",
       "      <th>2</th>\n",
       "      <td>T0005775167</td>\n",
       "      <td>1.0</td>\n",
       "    </tr>\n",
       "    <tr>\n",
       "      <th>3</th>\n",
       "      <td>T0005776893</td>\n",
       "      <td>2.0</td>\n",
       "    </tr>\n",
       "    <tr>\n",
       "      <th>4</th>\n",
       "      <td>T0005801375</td>\n",
       "      <td>3.0</td>\n",
       "    </tr>\n",
       "  </tbody>\n",
       "</table>\n",
       "</div>"
      ],
      "text/plain": [
       "            id  pricing_category\n",
       "0  T0005834792               2.0\n",
       "1  T0005896349               2.0\n",
       "2  T0005775167               1.0\n",
       "3  T0005776893               2.0\n",
       "4  T0005801375               3.0"
      ]
     },
     "execution_count": 285,
     "metadata": {},
     "output_type": "execute_result"
    }
   ],
   "source": [
    "sub.head()"
   ]
  },
  {
   "cell_type": "code",
   "execution_count": null,
   "metadata": {},
   "outputs": [],
   "source": []
  },
  {
   "cell_type": "code",
   "execution_count": null,
   "metadata": {},
   "outputs": [],
   "source": []
  }
 ],
 "metadata": {
  "kernelspec": {
   "display_name": "Python 3",
   "language": "python",
   "name": "python3"
  },
  "language_info": {
   "codemirror_mode": {
    "name": "ipython",
    "version": 3
   },
   "file_extension": ".py",
   "mimetype": "text/x-python",
   "name": "python",
   "nbconvert_exporter": "python",
   "pygments_lexer": "ipython3",
   "version": "3.6.5"
  }
 },
 "nbformat": 4,
 "nbformat_minor": 2
}
